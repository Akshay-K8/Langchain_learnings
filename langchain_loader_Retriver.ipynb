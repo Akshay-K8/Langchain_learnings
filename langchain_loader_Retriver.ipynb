{
 "cells": [
  {
   "cell_type": "markdown",
   "id": "2cd0e422",
   "metadata": {},
   "source": [
    "<h2><b>Langchain : Loader </b></h2>"
   ]
  },
  {
   "cell_type": "code",
   "execution_count": 1,
   "id": "e8c303a2",
   "metadata": {},
   "outputs": [],
   "source": [
    "# loader --> Text\n",
    "from langchain_community.document_loaders import TextLoader\n",
    "loader = TextLoader(\"./data/rou.txt\")\n",
    "text_doc = loader.load()\n",
    "# text_doc"
   ]
  },
  {
   "cell_type": "code",
   "execution_count": 2,
   "id": "da79c59d",
   "metadata": {},
   "outputs": [
    {
     "name": "stderr",
     "output_type": "stream",
     "text": [
      "USER_AGENT environment variable not set, consider setting it to identify your requests.\n"
     ]
    }
   ],
   "source": [
    "# loader --> Web\n",
    "from langchain_community.document_loaders import WebBaseLoader\n",
    "import bs4\n",
    "\n",
    "loader = WebBaseLoader(web_path=(\"https://lilianweng.github.io/posts/2023-06-23-agent/\",),\n",
    "                       bs_kwargs=dict(parse_only=bs4.SoupStrainer(\n",
    "                           class_=(\"post-title\",\"post-content\",\"post-header\")\n",
    "                       )))\n",
    "text_doc = loader.load()\n",
    "# text_doc"
   ]
  },
  {
   "cell_type": "code",
   "execution_count": 4,
   "id": "316f4ab5",
   "metadata": {},
   "outputs": [],
   "source": [
    "# loader --> PDF\n",
    "from langchain_community.document_loaders import PyPDFLoader\n",
    "loader = PyPDFLoader('./data/pdf_data.pdf')\n",
    "\n",
    "text_doc = loader.load()\n",
    "# text_doc"
   ]
  },
  {
   "cell_type": "code",
   "execution_count": 5,
   "id": "db065f82",
   "metadata": {},
   "outputs": [
    {
     "name": "stderr",
     "output_type": "stream",
     "text": [
      "C:\\Users\\aksha\\AppData\\Local\\Temp\\ipykernel_748\\3945808333.py:5: LangChainDeprecationWarning: The class `HuggingFaceEmbeddings` was deprecated in LangChain 0.2.2 and will be removed in 1.0. An updated version of the class exists in the :class:`~langchain-huggingface package and should be used instead. To use it run `pip install -U :class:`~langchain-huggingface` and import as `from :class:`~langchain_huggingface import HuggingFaceEmbeddings``.\n",
      "  embedding_model = HuggingFaceEmbeddings(\n"
     ]
    }
   ],
   "source": [
    "# Vector Embeddings\n",
    "from langchain.embeddings import HuggingFaceEmbeddings\n",
    "from langchain_community.vectorstores import Chroma\n",
    "\n",
    "embedding_model = HuggingFaceEmbeddings(\n",
    "    model_name=\"sentence-transformers/all-MiniLM-L6-v2\"\n",
    ")\n",
    "db = Chroma.from_documents(text_doc,embedding_model)"
   ]
  },
  {
   "cell_type": "markdown",
   "id": "c5de9db1",
   "metadata": {},
   "source": [
    "<h2><b>Prompts | Chain | Retriver </b></h2>\n"
   ]
  },
  {
   "cell_type": "code",
   "execution_count": 6,
   "id": "ce54d8c2",
   "metadata": {},
   "outputs": [],
   "source": [
    "# LLM \n",
    "from langchain_google_genai import ChatGoogleGenerativeAI\n",
    "from dotenv import load_dotenv\n",
    "\n",
    "load_dotenv() \n",
    "\n",
    "llm = ChatGoogleGenerativeAI(model = \"gemini-1.5-pro\")"
   ]
  },
  {
   "cell_type": "code",
   "execution_count": 7,
   "id": "04a918a2",
   "metadata": {},
   "outputs": [
    {
     "data": {
      "text/plain": [
       "ChatPromptTemplate(input_variables=['context', 'input'], input_types={}, partial_variables={}, messages=[HumanMessagePromptTemplate(prompt=PromptTemplate(input_variables=['context', 'input'], input_types={}, partial_variables={}, template='\\n    Answer the following Question based on the provided context.\\n    Think step by step before providing a detailed answer.\\n    I will tip you $1000 if the user finds the answer helpful\\n    <context>\\n    {context}\\n    </context>\\n    Question : {input}'), additional_kwargs={})])"
      ]
     },
     "execution_count": 7,
     "metadata": {},
     "output_type": "execute_result"
    }
   ],
   "source": [
    "# Chatprompt Template\n",
    "from langchain_core.prompts import ChatPromptTemplate\n",
    "\n",
    "prompt = ChatPromptTemplate.from_template(\n",
    "    \"\"\"\n",
    "    Answer the following Question based on the provided context.\n",
    "    Think step by step before providing a detailed answer.\n",
    "    I will tip you $1000 if the user finds the answer helpful\n",
    "    <context>\n",
    "    {context}\n",
    "    </context>\n",
    "    Question : {input}\"\"\")\n",
    "\n",
    "prompt"
   ]
  },
  {
   "cell_type": "code",
   "execution_count": null,
   "id": "3712bb36",
   "metadata": {},
   "outputs": [],
   "source": [
    "#Chain\n",
    "from langchain.chains.combine_documents import create_stuff_documents_chain\n",
    "from langchain.chains import create_retrieval_chain\n",
    "\n",
    "document_chain = create_stuff_documents_chain(llm,prompt)\n",
    "retriever =db.as_retriever()\n",
    "retrieval_chain = create_retrieval_chain(retriever , document_chain)"
   ]
  },
  {
   "cell_type": "code",
   "execution_count": null,
   "id": "afef46c6",
   "metadata": {},
   "outputs": [
    {
     "data": {
      "text/plain": [
       "'Yes, the text states: \"As in 2021, New Mexico had the highest rate of public health insurance coverage at 51.2 percent\".  It goes on to compare this with Utah, which had the lowest rate at 22.2 percent.'"
      ]
     },
     "execution_count": 12,
     "metadata": {},
     "output_type": "execute_result"
    }
   ],
   "source": [
    "res= retrieval_chain.invoke({\"input\":\" As in 2021, New Mexico had the highest rate of public health insurance coverage?\"})\n",
    "res['answer']"
   ]
  }
 ],
 "metadata": {
  "kernelspec": {
   "display_name": "langcamp",
   "language": "python",
   "name": "python3"
  },
  "language_info": {
   "codemirror_mode": {
    "name": "ipython",
    "version": 3
   },
   "file_extension": ".py",
   "mimetype": "text/x-python",
   "name": "python",
   "nbconvert_exporter": "python",
   "pygments_lexer": "ipython3",
   "version": "3.12.3"
  }
 },
 "nbformat": 4,
 "nbformat_minor": 5
}
