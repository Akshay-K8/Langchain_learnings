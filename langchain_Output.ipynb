{
 "cells": [
  {
   "cell_type": "markdown",
   "id": "556d4eea",
   "metadata": {},
   "source": [
    "<h2><b>Langchain : Output -> Structured </b></h2>"
   ]
  },
  {
   "cell_type": "code",
   "execution_count": null,
   "id": "076b96d8",
   "metadata": {},
   "outputs": [],
   "source": [
    "from langchain_google_genai import ChatGoogleGenerativeAI\n",
    "from dotenv import load_dotenv\n",
    "load_dotenv()\n",
    "llm=ChatGoogleGenerativeAI(model='gemini-2.0-flash')"
   ]
  },
  {
   "cell_type": "code",
   "execution_count": null,
   "id": "d3dd3fcc",
   "metadata": {},
   "outputs": [
    {
     "name": "stdout",
     "output_type": "stream",
     "text": [
      "<class 'dict'>\n",
      "{'name': 'Akshay', 'age': 23}\n",
      "Akshay\n"
     ]
    }
   ],
   "source": [
    "#TypedDict\n",
    "from typing import TypedDict\n",
    "\n",
    "class Person(TypedDict):\n",
    "    name:str\n",
    "    age:int\n",
    "\n",
    "new_person = Person(name=\"Akshay\", age=23)\n",
    "print(type(new_person))\n",
    "print(new_person)"
   ]
  },
  {
   "cell_type": "code",
   "execution_count": null,
   "id": "395a607d",
   "metadata": {},
   "outputs": [],
   "source": [
    "# with_structured_output() + TypedDict works with OPENAI only \n",
    "from langchain_google_genai import ChatGoogleGenerativeAI\n",
    "from langchain_openai import ChatOpenAI\n",
    "from dotenv import load_dotenv\n",
    "from typing import TypedDict, Annotated\n",
    "\n",
    "load_dotenv()\n",
    "\n",
    "# model= ChatGoogleGenerativeAI(model=\"gemini-2.0-flash\")\n",
    "model = ChatOpenAI()\n",
    "\n",
    "class Review(TypedDict):\n",
    "    summary:Annotated[str,'The Brief Summary of the Review']\n",
    "    sentiment:Annotated[str,'Return Sentiment of the Review as Negative , Positive , Neutral']\n",
    "\n",
    "structured_model = model.with_structured_output(Review)\n",
    "\n",
    "res = structured_model.invoke(\"The new gaming laptop is outstanding! It has a sleek design, powerful performance, and excellent cooling. Perfect for both work and play.\")\n",
    "\n",
    "print(res)"
   ]
  },
  {
   "cell_type": "code",
   "execution_count": 42,
   "id": "ed0e5a49",
   "metadata": {},
   "outputs": [
    {
     "name": "stdout",
     "output_type": "stream",
     "text": [
      "name='Akshay' age=23\n"
     ]
    }
   ],
   "source": [
    "from langchain.prompts import PromptTemplate\n",
    "from langchain.output_parsers import PydanticOutputParser\n",
    "from pydantic import BaseModel\n",
    "\n",
    "\n",
    "class Person(BaseModel):\n",
    "    name:str\n",
    "    age:int\n",
    "\n",
    "parser=PydanticOutputParser(pydantic_object=Person)\n",
    "\n",
    "prompt=PromptTemplate(\n",
    "    input_variables=[\"Person\"],\n",
    "    template=\"Extract the name and age from the following sentence:\\n\\n{text}\\n\\n{format_instructions}\",\n",
    "    partial_variables ={\"format_instructions\":parser.get_format_instructions()}\n",
    ")\n",
    "\n",
    "input_text=\"My Name is Akshay and I am 23 Years old.\"\n",
    "\n",
    "formatted_prompt=prompt.format(text=input_text)\n",
    "res = llm.predict(formatted_prompt)\n",
    "\n",
    "person = parser.parse(res)\n",
    "print(person)"
   ]
  },
  {
   "cell_type": "code",
   "execution_count": null,
   "id": "4187d60f",
   "metadata": {},
   "outputs": [
    {
     "name": "stdout",
     "output_type": "stream",
     "text": [
      "name='AK' age=25\n"
     ]
    }
   ],
   "source": [
    "from pydantic import BaseModel\n",
    "from typing import Optional\n",
    "\n",
    "class Student(BaseModel):\n",
    "    name:str = \"Akshay\"\n",
    "    age:Optional[int ]=None\n",
    "\n",
    "new_stu={'age':25}\n",
    "\n",
    "st = Student(**new_stu)\n",
    "\n",
    "print(st)"
   ]
  },
  {
   "cell_type": "code",
   "execution_count": null,
   "id": "3608cd7d",
   "metadata": {},
   "outputs": [
    {
     "name": "stdout",
     "output_type": "stream",
     "text": [
      "summary='Good user experience but expensive with some app optimization issues and battery concerns.' sentiment='Neutral' product='Samsung Galaxy Tab S9'\n"
     ]
    }
   ],
   "source": [
    "from langchain_google_genai import ChatGoogleGenerativeAI\n",
    "from dotenv import load_dotenv\n",
    "from typing import Annotated\n",
    "from pydantic import BaseModel,Field\n",
    "import warnings\n",
    "warnings.filterwarnings(\"ignore\")\n",
    "\n",
    "load_dotenv()\n",
    "\n",
    "model= ChatGoogleGenerativeAI(model=\"gemini-1.5-pro-latest\")\n",
    "\n",
    "class Review(BaseModel):\n",
    "    summary:str = Field(default=None,description=\"Summary of the Review in one line\")\n",
    "    sentiment:str=Field(default=None,description=\"Return Sentiment of the Review as strictly Negative , Positive , Neutral\")\n",
    "    product:str=Field(default=None ,description=\"Product Name about which the review is\")\n",
    "\n",
    "structured_model = model.with_structured_output(Review)\n",
    "\n",
    "res = structured_model.invoke(\n",
    "\"\"\"\n",
    "The Samsung Galaxy Tab S9 stands out with its vibrant AMOLED display and sleek design, making it great for media consumption. The included S Pen is responsive and ideal for drawing or note-taking, and the overall performance is smooth for most tasks. However, some apps still feel poorly optimized for the tablet format, limiting the productivity experience. While the build quality feels premium, the device is quite expensive compared to competitors with similar specs. Bad Battery life is decent but can drain quickly during heavy usage. Overall, the Tab S9 offers a good user experience but comes with trade-offs that may affect its value depending on the user’s needs.\n",
    "\"\"\"\n",
    ")\n",
    "\n",
    "print(res)"
   ]
  }
 ],
 "metadata": {
  "kernelspec": {
   "display_name": "langcamp",
   "language": "python",
   "name": "python3"
  },
  "language_info": {
   "codemirror_mode": {
    "name": "ipython",
    "version": 3
   },
   "file_extension": ".py",
   "mimetype": "text/x-python",
   "name": "python",
   "nbconvert_exporter": "python",
   "pygments_lexer": "ipython3",
   "version": "3.12.3"
  }
 },
 "nbformat": 4,
 "nbformat_minor": 5
}
