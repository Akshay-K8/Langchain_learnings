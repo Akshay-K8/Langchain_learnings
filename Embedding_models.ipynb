{
 "cells": [
  {
   "cell_type": "code",
   "execution_count": 5,
   "id": "e35c1974",
   "metadata": {},
   "outputs": [],
   "source": [
    "# LLM \n",
    "from langchain_openai.chat_models import ChatOpenAI\n",
    "from dotenv import load_dotenv\n",
    "\n",
    "load_dotenv() \n",
    "\n",
    "llm = ChatOpenAI(model=\"gpt-3.5-turbo\")"
   ]
  },
  {
   "cell_type": "code",
   "execution_count": 6,
   "id": "16845fbd",
   "metadata": {},
   "outputs": [
    {
     "data": {
      "text/plain": [
       "ChatPromptTemplate(input_variables=['context', 'input'], input_types={}, partial_variables={}, messages=[HumanMessagePromptTemplate(prompt=PromptTemplate(input_variables=['context', 'input'], input_types={}, partial_variables={}, template='\\n    Answer the following Question based on the provided context.\\n    Think step by step before providing a detailed answer.\\n    I will tip you $1000 if the user finds the answer helpful\\n    <context>\\n    {context}\\n    </context>\\n    Question : {input}'), additional_kwargs={})])"
      ]
     },
     "execution_count": 6,
     "metadata": {},
     "output_type": "execute_result"
    }
   ],
   "source": [
    "# Chatprompt Template\n",
    "from langchain_core.prompts import ChatPromptTemplate\n",
    "\n",
    "prompt = ChatPromptTemplate.from_template(\n",
    "    \"\"\"\n",
    "    Answer the following Question based on the provided context.\n",
    "    Think step by step before providing a detailed answer.\n",
    "    I will tip you $1000 if the user finds the answer helpful\n",
    "    <context>\n",
    "    {context}\n",
    "    </context>\n",
    "    Question : {input}\"\"\")\n",
    "\n",
    "prompt"
   ]
  },
  {
   "cell_type": "code",
   "execution_count": 3,
   "id": "d871d141",
   "metadata": {},
   "outputs": [],
   "source": [
    "from langchain_community.document_loaders import PyMuPDFLoader\n",
    "from langchain_community.vectorstores import FAISS\n",
    "from langchain_google_genai.embeddings import GoogleGenerativeAIEmbeddings\n",
    "from dotenv import load_dotenv\n",
    "from langchain_text_splitters import RecursiveCharacterTextSplitter\n",
    "\n",
    "load_dotenv()\n",
    "\n",
    "loader = PyMuPDFLoader(\"./data/Time_series_data.pdf\")\n",
    "docs = loader.load()\n",
    "\n",
    "documents = RecursiveCharacterTextSplitter(chunk_size=1000 , chunk_overlap=200).split_documents(docs)\n",
    "\n",
    "vectordb = FAISS.from_documents(documents,GoogleGenerativeAIEmbeddings(model=\"models/embedding-001\"))"
   ]
  },
  {
   "cell_type": "code",
   "execution_count": 7,
   "id": "ddf34181",
   "metadata": {},
   "outputs": [],
   "source": [
    "#Chain\n",
    "from langchain.chains.combine_documents import create_stuff_documents_chain\n",
    "from langchain.chains import create_retrieval_chain\n",
    "\n",
    "document_chain = create_stuff_documents_chain(llm,prompt)\n",
    "retriever =vectordb.as_retriever()\n",
    "retrieval_chain = create_retrieval_chain(retriever , document_chain)"
   ]
  },
  {
   "cell_type": "code",
   "execution_count": 5,
   "id": "e724d4a1",
   "metadata": {},
   "outputs": [
    {
     "data": {
      "text/plain": [
       "'The recent advancements in LLMs have opened up new opportunities for time series modeling, including methods like Promptcast, LLMTime, TEMPO, and GPT4TS. These methods either reformulate numerical inputs and outputs into prompts or fine-tune pre-trained LLMs to enhance their adaptability for time series forecasting. Additionally, techniques such as aligning time series data to word embedding space and reprogramming time series patches with text prototypes have been introduced to further enhance time series forecasting with LLMs. These advancements showcase the potential of LLMs in improving prediction accuracy and interpretability in time series analysis.'"
      ]
     },
     "execution_count": 5,
     "metadata": {},
     "output_type": "execute_result"
    }
   ],
   "source": [
    "res= retrieval_chain.invoke({\"input\":\"Which are The recent advancements in LLMs have opened up new opportunities for time series modeling\"})\n",
    "res['answer']"
   ]
  },
  {
   "cell_type": "code",
   "execution_count": 2,
   "id": "b7a08bd5",
   "metadata": {},
   "outputs": [],
   "source": [
    "# from langchain_google_genai.embeddings import GoogleGenerativeAIEmbeddings\n",
    "from langchain_openai.embeddings import OpenAIEmbeddings\n",
    "# from langchain_cohere.embeddings import CohereEmbeddings\n",
    "# from langchain_community.embeddings import HuggingFaceBgeEmbeddings\n",
    "\n",
    "from langchain_community.vectorstores import FAISS\n",
    "from langchain_text_splitters import RecursiveCharacterTextSplitter\n",
    "from langchain_community.document_loaders import PyMuPDFLoader\n",
    "from langchain_core.output_parsers import StrOutputParser\n",
    "\n",
    "# Load documents and split them\n",
    "loader = PyMuPDFLoader(\"./data/Indian Culture.pdf\")\n",
    "docs = loader.load()\n",
    "\n",
    "documents = RecursiveCharacterTextSplitter(chunk_size=1000, chunk_overlap=200).split_documents(docs)\n",
    "\n",
    "# Create vector store\n",
    "vectordb = FAISS.from_documents(documents, OpenAIEmbeddings(model = \"text-embedding-3-large\"))\n",
    "# vectordb = FAISS.from_documents(documents, CohereEmbeddings(model=\"embed-english-v3.0\"))\n"
   ]
  },
  {
   "cell_type": "code",
   "execution_count": 3,
   "id": "56718020",
   "metadata": {},
   "outputs": [
    {
     "name": "stderr",
     "output_type": "stream",
     "text": [
      "C:\\Users\\aksha\\AppData\\Local\\Temp\\ipykernel_11316\\3580171162.py:7: LangChainDeprecationWarning: The method `BaseRetriever.get_relevant_documents` was deprecated in langchain-core 0.1.46 and will be removed in 1.0. Use :meth:`~invoke` instead.\n",
      "  results = retriever.get_relevant_documents(query)\n"
     ]
    },
    {
     "data": {
      "text/plain": [
       "'society was pastoral, that is, people used to move from place to place in search of pastures.\\nBut as the these people started practising agriculture, they settled down. This settled life\\nled to community development and growth of towns which needed rules and regulations.\\nThus emerged a political organisation. This included the sabhas and samitis which were\\npolitical bodies through which people participated in governance. In course of time, the\\nconcept of rashtra emerged and possession of territory became the new measure of\\npower. In some places, republics came up. The period from sixth to fourth century BC is\\nknown as the age of mahajanapadas in India. In these kingdoms kings had more powers.\\nSubsequently large empires were also established with emperors exercising absolute powers.\\nYou may be aware of ancient rulers such as Ashoka, Samudragupta and Harshavardhana.\\nThe Mughals also established a vast empire in India. The British established themselves in'"
      ]
     },
     "execution_count": 3,
     "metadata": {},
     "output_type": "execute_result"
    }
   ],
   "source": [
    "query = \"The period from sixth to fourth century BC is known as the age of\"\n",
    "retriever = vectordb.as_retriever()\n",
    "\n",
    "parser = StrOutputParser()\n",
    "\n",
    "# Retrieve the documents\n",
    "results = retriever.get_relevant_documents(query)\n",
    "\n",
    "results[0].page_content"
   ]
  },
  {
   "cell_type": "code",
   "execution_count": 5,
   "id": "0abee160",
   "metadata": {},
   "outputs": [
    {
     "name": "stdout",
     "output_type": "stream",
     "text": [
      "page_content='society was pastoral, that is, people used to move from place to place in search of pastures.\n",
      "But as the these people started practising agriculture, they settled down. This settled life\n",
      "led to community development and growth of towns which needed rules and regulations.\n",
      "Thus emerged a political organisation. This included the sabhas and samitis which were\n",
      "political bodies through which people participated in governance. In course of time, the\n",
      "concept of rashtra emerged and possession of territory became the new measure of\n",
      "power. In some places, republics came up. The period from sixth to fourth century BC is\n",
      "known as the age of mahajanapadas in India. In these kingdoms kings had more powers.\n",
      "Subsequently large empires were also established with emperors exercising absolute powers.\n",
      "You may be aware of ancient rulers such as Ashoka, Samudragupta and Harshavardhana.\n",
      "The Mughals also established a vast empire in India. The British established themselves in' metadata={'producer': 'FPDF 1.81', 'creator': '', 'creationdate': 'D:20200917124537', 'source': './data/Indian Culture.pdf', 'file_path': './data/Indian Culture.pdf', 'total_pages': 9, 'format': 'PDF 1.4', 'title': '', 'author': '', 'subject': '', 'keywords': '', 'moddate': '', 'trapped': '', 'modDate': '', 'creationDate': 'D:20200917124537', 'page': 3}\n",
      "------------------------------------------------------------------------------------------------------------------------------------------------------\n",
      "page_content='continue to be followed even today. At the same time one should not lose sight of the\n",
      "changes as are evident in the multistoried buildings in the metropolitan cities like Mumbai\n",
      "and Delhi, quite unlike the Harappan houses that had only one storey. The point to be\n",
      "noted here is that continuity and change in our civilization has gone hand in hand. In fact, a\n",
      "remarkable feature of Indian culture is that along with continuity it has kept on changing,\n",
      "whereas the basic spirit of our culture continued. It has kept on discarding what was\n",
      "becoming irrelevant in the modern age. In our long history, there have been periods of ups\n",
      "and downs. As a result, movements have grown and reforms brought about. The reform\n",
      "movements in the Vedic religion brought about by Jainism and Buddhism in sixth century\n",
      "BC and the religious and social awakening in the eighteenth and nineteenth centuries in' metadata={'producer': 'FPDF 1.81', 'creator': '', 'creationdate': 'D:20200917124537', 'source': './data/Indian Culture.pdf', 'file_path': './data/Indian Culture.pdf', 'total_pages': 9, 'format': 'PDF 1.4', 'title': '', 'author': '', 'subject': '', 'keywords': '', 'moddate': '', 'trapped': '', 'modDate': '', 'creationDate': 'D:20200917124537', 'page': 1}\n",
      "------------------------------------------------------------------------------------------------------------------------------------------------------\n",
      "page_content='other at right angles. They had a profound knowledge of mathematics, weights and measures.\n",
      "They had built their towns in a scientific manner and had an elaborate drainage system.\n",
      "The Harappans had external trade and travelled across the seas to trade with the Sumerians.\n",
      "Excellent books on medicines, planets, stars, and plants were written. Discoveries of\n",
      "theories-like “earth rotates around the sun” or “earth is round” were made by Indians long\n",
      "before Europe accepted them. Similarly in the area of mathematics and in the field of\n",
      "medicine and other sciences India’s achievements in ancient times have been remarkable.\n",
      "There was no opposition or resistance by religious or other thoughts in pursuing such\n",
      "knowledge.\n",
      "In philosophical thought even atheistic thinking developed and grew in India. You may be\n",
      "aware that Jainism and Buddhism are silent about the existence of God. What does all this\n",
      "tell us? Indeed, that Indian culture has been both materialistic and non-materialistic or' metadata={'producer': 'FPDF 1.81', 'creator': '', 'creationdate': 'D:20200917124537', 'source': './data/Indian Culture.pdf', 'file_path': './data/Indian Culture.pdf', 'total_pages': 9, 'format': 'PDF 1.4', 'title': '', 'author': '', 'subject': '', 'keywords': '', 'moddate': '', 'trapped': '', 'modDate': '', 'creationDate': 'D:20200917124537', 'page': 5}\n",
      "------------------------------------------------------------------------------------------------------------------------------------------------------\n",
      "page_content='has had an enduring character. Despite major changes and upheavals significant threads of\n",
      "continuity can be traced throughout the course of Indian history right upto the present day.\n",
      "You may have read about the Harappan civilization which flourished in the Indian\n",
      "subcontinent over 4500 years ago. Archaeologists have found evidences to show that\n",
      "cultures existed here even before the matured phase of the Harappan civilization. This tells\n",
      "us that we have a very long history behind us. And yet what is amazing is that even today\n",
      "the pattern of a house in an Indian village is not very different from that of a Harappan\n",
      "house. Some aspects of Harappan culture are still practised, such as, the worshipping of\n",
      "Mother Goddess and Pashupati. Similarly, Vedic, Buddhist, Jain and many other traditions\n",
      "continue to be followed even today. At the same time one should not lose sight of the\n",
      "changes as are evident in the multistoried buildings in the metropolitan cities like Mumbai' metadata={'producer': 'FPDF 1.81', 'creator': '', 'creationdate': 'D:20200917124537', 'source': './data/Indian Culture.pdf', 'file_path': './data/Indian Culture.pdf', 'total_pages': 9, 'format': 'PDF 1.4', 'title': '', 'author': '', 'subject': '', 'keywords': '', 'moddate': '', 'trapped': '', 'modDate': '', 'creationDate': 'D:20200917124537', 'page': 1}\n",
      "------------------------------------------------------------------------------------------------------------------------------------------------------\n"
     ]
    }
   ],
   "source": [
    "for docs in results:\n",
    "    print(docs)\n",
    "    print(\"---\"*50)"
   ]
  }
 ],
 "metadata": {
  "kernelspec": {
   "display_name": "langcamp",
   "language": "python",
   "name": "python3"
  },
  "language_info": {
   "codemirror_mode": {
    "name": "ipython",
    "version": 3
   },
   "file_extension": ".py",
   "mimetype": "text/x-python",
   "name": "python",
   "nbconvert_exporter": "python",
   "pygments_lexer": "ipython3",
   "version": "3.12.3"
  }
 },
 "nbformat": 4,
 "nbformat_minor": 5
}
